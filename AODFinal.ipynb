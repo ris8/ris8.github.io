{
  "nbformat": 4,
  "nbformat_minor": 0,
  "metadata": {
    "colab": {
      "name": "AODFinal.ipynb",
      "provenance": [],
      "authorship_tag": "ABX9TyPAp2I2+qAoXSdOtDBMwtKo",
      "include_colab_link": true
    },
    "kernelspec": {
      "name": "python3",
      "display_name": "Python 3"
    },
    "language_info": {
      "name": "python"
    }
  },
  "cells": [
    {
      "cell_type": "markdown",
      "metadata": {
        "id": "view-in-github",
        "colab_type": "text"
      },
      "source": [
        "<a href=\"https://colab.research.google.com/github/ris8/ris8.github.io/blob/master/AODFinal.ipynb\" target=\"_parent\"><img src=\"https://colab.research.google.com/assets/colab-badge.svg\" alt=\"Open In Colab\"/></a>"
      ]
    },
    {
      "cell_type": "code",
      "metadata": {
        "colab": {
          "base_uri": "https://localhost:8080/",
          "height": 213
        },
        "id": "MvUgQnZronlk",
        "outputId": "15de0972-126d-455b-abc1-61dd8df96e4d"
      },
      "source": [
        "import pandas as pd\n",
        "import seaborn as sns\n",
        "df = pd.read_csv(\"https://ris8.github.io/assets/img/survey.csv\")#pull dataset from blog website since colab is annoying and won't just grab from drive\n",
        "df.sample()"
      ],
      "execution_count": 19,
      "outputs": [
        {
          "output_type": "execute_result",
          "data": {
            "text/html": [
              "<div>\n",
              "<style scoped>\n",
              "    .dataframe tbody tr th:only-of-type {\n",
              "        vertical-align: middle;\n",
              "    }\n",
              "\n",
              "    .dataframe tbody tr th {\n",
              "        vertical-align: top;\n",
              "    }\n",
              "\n",
              "    .dataframe thead th {\n",
              "        text-align: right;\n",
              "    }\n",
              "</style>\n",
              "<table border=\"1\" class=\"dataframe\">\n",
              "  <thead>\n",
              "    <tr style=\"text-align: right;\">\n",
              "      <th></th>\n",
              "      <th>Music</th>\n",
              "      <th>Slow songs or fast songs</th>\n",
              "      <th>Dance</th>\n",
              "      <th>Folk</th>\n",
              "      <th>Country</th>\n",
              "      <th>Classical music</th>\n",
              "      <th>Musical</th>\n",
              "      <th>Pop</th>\n",
              "      <th>Rock</th>\n",
              "      <th>Metal or Hardrock</th>\n",
              "      <th>Punk</th>\n",
              "      <th>Hiphop, Rap</th>\n",
              "      <th>Reggae, Ska</th>\n",
              "      <th>Swing, Jazz</th>\n",
              "      <th>Rock n roll</th>\n",
              "      <th>Alternative</th>\n",
              "      <th>Latino</th>\n",
              "      <th>Techno, Trance</th>\n",
              "      <th>Opera</th>\n",
              "      <th>Movies</th>\n",
              "      <th>Horror</th>\n",
              "      <th>Thriller</th>\n",
              "      <th>Comedy</th>\n",
              "      <th>Romantic</th>\n",
              "      <th>Sci-fi</th>\n",
              "      <th>War</th>\n",
              "      <th>Fantasy/Fairy tales</th>\n",
              "      <th>Animated</th>\n",
              "      <th>Documentary</th>\n",
              "      <th>Western</th>\n",
              "      <th>Action</th>\n",
              "      <th>History</th>\n",
              "      <th>Psychology</th>\n",
              "      <th>Politics</th>\n",
              "      <th>Mathematics</th>\n",
              "      <th>Physics</th>\n",
              "      <th>Internet</th>\n",
              "      <th>PC</th>\n",
              "      <th>Economy Management</th>\n",
              "      <th>Biology</th>\n",
              "      <th>...</th>\n",
              "      <th>New environment</th>\n",
              "      <th>Mood swings</th>\n",
              "      <th>Appearence and gestures</th>\n",
              "      <th>Socializing</th>\n",
              "      <th>Achievements</th>\n",
              "      <th>Responding to a serious letter</th>\n",
              "      <th>Children</th>\n",
              "      <th>Assertiveness</th>\n",
              "      <th>Getting angry</th>\n",
              "      <th>Knowing the right people</th>\n",
              "      <th>Public speaking</th>\n",
              "      <th>Unpopularity</th>\n",
              "      <th>Life struggles</th>\n",
              "      <th>Happiness in life</th>\n",
              "      <th>Energy levels</th>\n",
              "      <th>Small - big dogs</th>\n",
              "      <th>Personality</th>\n",
              "      <th>Finding lost valuables</th>\n",
              "      <th>Getting up</th>\n",
              "      <th>Interests or hobbies</th>\n",
              "      <th>Parents' advice</th>\n",
              "      <th>Questionnaires or polls</th>\n",
              "      <th>Internet usage</th>\n",
              "      <th>Finances</th>\n",
              "      <th>Shopping centres</th>\n",
              "      <th>Branded clothing</th>\n",
              "      <th>Entertainment spending</th>\n",
              "      <th>Spending on looks</th>\n",
              "      <th>Spending on gadgets</th>\n",
              "      <th>Spending on healthy eating</th>\n",
              "      <th>Age</th>\n",
              "      <th>Height</th>\n",
              "      <th>Weight</th>\n",
              "      <th>Number of siblings</th>\n",
              "      <th>Gender</th>\n",
              "      <th>Left - right handed</th>\n",
              "      <th>Education</th>\n",
              "      <th>Only child</th>\n",
              "      <th>Village - town</th>\n",
              "      <th>House - block of flats</th>\n",
              "    </tr>\n",
              "  </thead>\n",
              "  <tbody>\n",
              "    <tr>\n",
              "      <th>95</th>\n",
              "      <td>5.0</td>\n",
              "      <td>3.0</td>\n",
              "      <td>3.0</td>\n",
              "      <td>2.0</td>\n",
              "      <td>2.0</td>\n",
              "      <td>4.0</td>\n",
              "      <td>3.0</td>\n",
              "      <td>3.0</td>\n",
              "      <td>3.0</td>\n",
              "      <td>1.0</td>\n",
              "      <td>2.0</td>\n",
              "      <td>5.0</td>\n",
              "      <td>5.0</td>\n",
              "      <td>4.0</td>\n",
              "      <td>4.0</td>\n",
              "      <td>2.0</td>\n",
              "      <td>3.0</td>\n",
              "      <td>2.0</td>\n",
              "      <td>2.0</td>\n",
              "      <td>5.0</td>\n",
              "      <td>3.0</td>\n",
              "      <td>3.0</td>\n",
              "      <td>5.0</td>\n",
              "      <td>3.0</td>\n",
              "      <td>5.0</td>\n",
              "      <td>5.0</td>\n",
              "      <td>4.0</td>\n",
              "      <td>4.0</td>\n",
              "      <td>3.0</td>\n",
              "      <td>1.0</td>\n",
              "      <td>5.0</td>\n",
              "      <td>4.0</td>\n",
              "      <td>4.0</td>\n",
              "      <td>4.0</td>\n",
              "      <td>1.0</td>\n",
              "      <td>2.0</td>\n",
              "      <td>5.0</td>\n",
              "      <td>5.0</td>\n",
              "      <td>2.0</td>\n",
              "      <td>2.0</td>\n",
              "      <td>...</td>\n",
              "      <td>3.0</td>\n",
              "      <td>2.0</td>\n",
              "      <td>4.0</td>\n",
              "      <td>2.0</td>\n",
              "      <td>3.0</td>\n",
              "      <td>4.0</td>\n",
              "      <td>3.0</td>\n",
              "      <td>3.0</td>\n",
              "      <td>3.0</td>\n",
              "      <td>4.0</td>\n",
              "      <td>4.0</td>\n",
              "      <td>4.0</td>\n",
              "      <td>3.0</td>\n",
              "      <td>4.0</td>\n",
              "      <td>3.0</td>\n",
              "      <td>2.0</td>\n",
              "      <td>4.0</td>\n",
              "      <td>3.0</td>\n",
              "      <td>5.0</td>\n",
              "      <td>3.0</td>\n",
              "      <td>2.0</td>\n",
              "      <td>2.0</td>\n",
              "      <td>few hours a day</td>\n",
              "      <td>1.0</td>\n",
              "      <td>4.0</td>\n",
              "      <td>5.0</td>\n",
              "      <td>5.0</td>\n",
              "      <td>4.0</td>\n",
              "      <td>5</td>\n",
              "      <td>4.0</td>\n",
              "      <td>21.0</td>\n",
              "      <td>180.0</td>\n",
              "      <td>75.0</td>\n",
              "      <td>1.0</td>\n",
              "      <td>male</td>\n",
              "      <td>right handed</td>\n",
              "      <td>college/bachelor degree</td>\n",
              "      <td>no</td>\n",
              "      <td>city</td>\n",
              "      <td>house/bungalow</td>\n",
              "    </tr>\n",
              "  </tbody>\n",
              "</table>\n",
              "<p>1 rows × 150 columns</p>\n",
              "</div>"
            ],
            "text/plain": [
              "    Music  Slow songs or fast songs  ...  Village - town  House - block of flats\n",
              "95    5.0                       3.0  ...            city          house/bungalow\n",
              "\n",
              "[1 rows x 150 columns]"
            ]
          },
          "metadata": {
            "tags": []
          },
          "execution_count": 19
        }
      ]
    },
    {
      "cell_type": "markdown",
      "metadata": {
        "id": "P3WQN9jU4AyR"
      },
      "source": [
        "#Pre-analysis  \n",
        "This survey was administered to college students and their friends, and is made up of voluntary answers. Both of these should be kept in mind; all we can conclude is that these subjects self-reported in a certain way.  \n",
        "I hypothesize that students who said they came from a city are less likely to fear public speaking than those who say they came from a village.  \n",
        "Null hypothesis: students who say they come from a city are **not** less likely to fear public speaking than those who say they came from a village  \n",
        "Alternative hypothesis: students who say they come from a city **are** less likely to fear public speaking than those who say they came from a village"
      ]
    },
    {
      "cell_type": "code",
      "metadata": {
        "colab": {
          "base_uri": "https://localhost:8080/",
          "height": 298
        },
        "id": "ycu43Gj23Ts0",
        "outputId": "9a02b9ec-2d3a-4cb8-a055-bf5cd9db2c1d"
      },
      "source": [
        "temp = df[\"Village - town\"].value_counts()#analyze distribution of town v. city and show relevant visualization\n",
        "temp.plot.pie()\n",
        "print(temp/len(df))"
      ],
      "execution_count": 3,
      "outputs": [
        {
          "output_type": "stream",
          "text": [
            "city       0.70000\n",
            "village    0.29604\n",
            "Name: Village - town, dtype: float64\n"
          ],
          "name": "stdout"
        },
        {
          "output_type": "display_data",
          "data": {
            "image/png": "[encoded data removed]",
            "text/plain": [
              "<Figure size 432x288 with 1 Axes>"
            ]
          },
          "metadata": {
            "tags": []
          }
        }
      ]
    },
    {
      "cell_type": "markdown",
      "metadata": {
        "id": "QMM0FA2a75mY"
      },
      "source": [
        "From this, we can see that (in this dataset) roughly 70% of people say they are from cities, while roughly 30% say they are from villages."
      ]
    },
    {
      "cell_type": "code",
      "metadata": {
        "colab": {
          "base_uri": "https://localhost:8080/",
          "height": 422
        },
        "id": "-hX0d19A2KSo",
        "outputId": "7382db02-63e8-4a1a-8949-f5744657e589"
      },
      "source": [
        "df[\"Public speaking\"].value_counts().plot.bar()\n",
        "df[\"Public speaking\"].describe()"
      ],
      "execution_count": 4,
      "outputs": [
        {
          "output_type": "execute_result",
          "data": {
            "text/plain": [
              "count    1008.000000\n",
              "mean        3.521825\n",
              "std         1.268173\n",
              "min         1.000000\n",
              "25%         3.000000\n",
              "50%         4.000000\n",
              "75%         5.000000\n",
              "max         5.000000\n",
              "Name: Public speaking, dtype: float64"
            ]
          },
          "metadata": {
            "tags": []
          },
          "execution_count": 4
        },
        {
          "output_type": "display_data",
          "data": {
            "image/png": "[encoded data removed]",
            "text/plain": [
              "<Figure size 432x288 with 1 Axes>"
            ]
          },
          "metadata": {
            "tags": [],
            "needs_background": "light"
          }
        }
      ]
    },
    {
      "cell_type": "markdown",
      "metadata": {
        "id": "xBjwaOgZ9OA4"
      },
      "source": [
        "Here, we see that the 'average' fear of public spekaing is a ~3.5, meaning people are generally pretty afaid of public speaking. We also see that a 5, 'very afraid of,' is the most common report, which descends from there down to 1. Technically, the standard deviation is roughly 1.27, but that's not very relevant since the information is both discrete and very tightly boxed in, between 1 and 5. "
      ]
    },
    {
      "cell_type": "code",
      "metadata": {
        "colab": {
          "base_uri": "https://localhost:8080/",
          "height": 422
        },
        "id": "X8MLeAEH-DIk",
        "outputId": "48ed899a-57df-44fc-cc30-f66770be9a40"
      },
      "source": [
        "temp = df[df[\"Village - town\"] == \"village\"][\"Public speaking\"]#get distribution for villagers\n",
        "temp.value_counts().plot.bar()\n",
        "temp.describe()"
      ],
      "execution_count": 5,
      "outputs": [
        {
          "output_type": "execute_result",
          "data": {
            "text/plain": [
              "count    299.000000\n",
              "mean       3.508361\n",
              "std        1.288474\n",
              "min        1.000000\n",
              "25%        3.000000\n",
              "50%        3.000000\n",
              "75%        5.000000\n",
              "max        5.000000\n",
              "Name: Public speaking, dtype: float64"
            ]
          },
          "metadata": {
            "tags": []
          },
          "execution_count": 5
        },
        {
          "output_type": "display_data",
          "data": {
            "image/png": "[encoded data removed]",
            "text/plain": [
              "<Figure size 432x288 with 1 Axes>"
            ]
          },
          "metadata": {
            "tags": [],
            "needs_background": "light"
          }
        }
      ]
    },
    {
      "cell_type": "code",
      "metadata": {
        "colab": {
          "base_uri": "https://localhost:8080/",
          "height": 422
        },
        "id": "OsT3pgZa-Zkm",
        "outputId": "c3d0f5c5-1222-4204-a7c4-3b27fa8a2f61"
      },
      "source": [
        "temp = df[df[\"Village - town\"] == \"city\"][\"Public speaking\"]#get distribution for city peeps\n",
        "temp.value_counts().plot.bar()\n",
        "temp.describe()"
      ],
      "execution_count": 6,
      "outputs": [
        {
          "output_type": "execute_result",
          "data": {
            "text/plain": [
              "count    705.000000\n",
              "mean       3.523404\n",
              "std        1.258981\n",
              "min        1.000000\n",
              "25%        3.000000\n",
              "50%        4.000000\n",
              "75%        5.000000\n",
              "max        5.000000\n",
              "Name: Public speaking, dtype: float64"
            ]
          },
          "metadata": {
            "tags": []
          },
          "execution_count": 6
        },
        {
          "output_type": "display_data",
          "data": {
            "image/png": "[encoded data removed]",
            "text/plain": [
              "<Figure size 432x288 with 1 Axes>"
            ]
          },
          "metadata": {
            "tags": [],
            "needs_background": "light"
          }
        }
      ]
    },
    {
      "cell_type": "markdown",
      "metadata": {
        "id": "p1zSKskA-3tj"
      },
      "source": [
        "From the initial visualization, it seems like the null hypothesis is correct, as the distributions seem nearly identical."
      ]
    },
    {
      "cell_type": "code",
      "metadata": {
        "id": "r0I7mN50-_WS",
        "colab": {
          "base_uri": "https://localhost:8080/"
        },
        "outputId": "18b81100-af25-4b56-84d8-518424429eac"
      },
      "source": [
        "#For bootstrapping, we'll take a point statistic for city and bootstrap town\n",
        "cityMean = df[df[\"Village - town\"] == \"city\"][\"Public speaking\"].mean()\n",
        "\n",
        "villData = df[df[\"Village - town\"] == \"village\"][\"Public speaking\"]\n",
        "villMeans = []#store the bootstrapped means here\n",
        "\n",
        "for i in range(100000):\n",
        "  villMeans.append(villData.sample(frac = 1, replace = True).mean())\n",
        "\n",
        "pVal=0\n",
        "for i in villMeans:#calculate pVal by checking what percentage of bootstrapped means are above the point statistic\n",
        "  if i <= cityMean:\n",
        "    pVal+=1\n",
        "pVal/=len(villMeans)#divide the number of entries above the point statistic, by the total number of entries (entries being the bootstrapped Adelie body mass averages)\n",
        "print(pVal)"
      ],
      "execution_count": 29,
      "outputs": [
        {
          "output_type": "stream",
          "text": [
            "0.58215\n"
          ],
          "name": "stdout"
        }
      ]
    },
    {
      "cell_type": "code",
      "metadata": {
        "colab": {
          "base_uri": "https://localhost:8080/",
          "height": 282
        },
        "id": "x_tMXaM-n3FP",
        "outputId": "ae6061e2-229d-422c-bf00-270f58015bc7"
      },
      "source": [
        "import matplotlib.pyplot as plt\n",
        "sns.violinplot(x=villMeans)\n",
        "plt.axvline(cityMean, 0, 1, color = \"red\")#draw a marker where the point statistic for city-peeps is"
      ],
      "execution_count": 37,
      "outputs": [
        {
          "output_type": "execute_result",
          "data": {
            "text/plain": [
              "<matplotlib.lines.Line2D at 0x7f1eb073a590>"
            ]
          },
          "metadata": {
            "tags": []
          },
          "execution_count": 37
        },
        {
          "output_type": "display_data",
          "data": {
            "image/png": "[encoded data removed]",
            "text/plain": [
              "<Figure size 432x288 with 1 Axes>"
            ]
          },
          "metadata": {
            "tags": [],
            "needs_background": "light"
          }
        }
      ]
    },
    {
      "cell_type": "markdown",
      "metadata": {
        "id": "EveNygV1qVb8"
      },
      "source": [
        "#Analysis  \n",
        "So, with a Pval of ~58%, we have not proved the alternative hypothesis. As we can see from the visualization, the boostrapped village means are actually slightly lower than the city point statistic, which means they were recorded as having slightly less fear of public speaking (the opposite of our alternative hypothesis). However, there is not enough information to swing either way, as the Pval is anything but conclusive."
      ]
    }
  ]
}